{
  "nbformat": 4,
  "nbformat_minor": 0,
  "metadata": {
    "colab": {
      "provenance": []
    },
    "kernelspec": {
      "name": "python3",
      "display_name": "Python 3"
    },
    "language_info": {
      "name": "python"
    }
  },
  "cells": [
    {
      "cell_type": "markdown",
      "source": [
        "Q1) Write a program to find all pairs of an integer array whose sum is equal to a given number?"
      ],
      "metadata": {
        "id": "ILQDTxS4Tba9"
      }
    },
    {
      "cell_type": "code",
      "execution_count": null,
      "metadata": {
        "id": "JI7wLYnhPcn-",
        "colab": {
          "base_uri": "https://localhost:8080/"
        },
        "outputId": "673907c0-61ea-477b-9c13-386deacfaa8c"
      },
      "outputs": [
        {
          "output_type": "stream",
          "name": "stdout",
          "text": [
            "Enter the target sum: 12\n",
            "Pairs with sum equal to 12 :\n",
            "[[2, 10], [3, 9], [4, 8], [5, 7]]\n"
          ]
        }
      ],
      "source": [
        "def find_pairs(array, target):\n",
        "    pairs = []\n",
        "    for i in range(len(array)):\n",
        "        for j in range(i + 1, len(array)):\n",
        "            if array[i] + array[j] == target:\n",
        "                pairs.append([array[i], array[j]])\n",
        "    return pairs\n",
        "\n",
        "# Example usage\n",
        "arr = [1,2,3,4,5,6,7,8,9,10]\n",
        "sum_target = int(input(\"Enter the target sum: \"))\n",
        "\n",
        "result = find_pairs(arr, sum_target)\n",
        "print(\"Pairs with sum equal to\", sum_target, \":\")\n",
        "print(result)"
      ]
    },
    {
      "cell_type": "markdown",
      "source": [
        "Q2) Write a program to reverse an array in place? In place means you cannot create a new array. You have to update the original array."
      ],
      "metadata": {
        "id": "oNtRsc4FTgEZ"
      }
    },
    {
      "cell_type": "code",
      "source": [
        "def reverse_array(array):\n",
        "    start = 0\n",
        "    end = len(array) - 1\n",
        "\n",
        "    while start < end:\n",
        "        array[start], array[end] = array[end], array[start]\n",
        "        start += 1\n",
        "        end -= 1\n",
        "\n",
        "# Take array input from the user\n",
        "input_string = input(\"Enter elements of the array (space-separated): \")\n",
        "arr = input_string.split()\n",
        "\n",
        "# Convert the input elements from string to integers\n",
        "arr = [int(num) for num in arr]\n",
        "\n",
        "# Reverse the array\n",
        "reverse_array(arr)\n",
        "\n",
        "# Print the reversed array\n",
        "print(\"Reversed array:\", arr)"
      ],
      "metadata": {
        "colab": {
          "base_uri": "https://localhost:8080/"
        },
        "id": "SQhkIXjWTV00",
        "outputId": "6c743405-6527-4438-b9ae-c5dc6384302e"
      },
      "execution_count": null,
      "outputs": [
        {
          "output_type": "stream",
          "name": "stdout",
          "text": [
            "Enter elements of the array (space-separated): 7 8 9 4 5 6\n",
            "Reversed array: [6, 5, 4, 9, 8, 7]\n"
          ]
        }
      ]
    },
    {
      "cell_type": "markdown",
      "source": [
        "Q3) Write a program to check if two strings are a rotation of each other?"
      ],
      "metadata": {
        "id": "ENYEAS2VTW2S"
      }
    },
    {
      "cell_type": "code",
      "source": [
        "def are_rotations(string1, string2):\n",
        "    if len(string1) != len(string2):\n",
        "        return False\n",
        "\n",
        "    stack = []\n",
        "    rotations = 0\n",
        "\n",
        "    for char in string1:\n",
        "        stack.append(char)\n",
        "\n",
        "    for _ in range(len(string2)):\n",
        "        char = stack.pop()\n",
        "        stack.insert(0, char)\n",
        "        rotations += 1\n",
        "\n",
        "        if ''.join(stack) == string2:\n",
        "            return True\n",
        "\n",
        "    return False\n",
        "\n",
        "# Example usage\n",
        "str1 = input(\"Enter the first string: \")\n",
        "str2 = input(\"Enter the second string: \")\n",
        "\n",
        "if are_rotations(str1, str2):\n",
        "    print(\"The two strings are rotations of each other.\")\n",
        "else:\n",
        "    print(\"The two strings are not rotations of each other.\")"
      ],
      "metadata": {
        "colab": {
          "base_uri": "https://localhost:8080/"
        },
        "id": "rpbAoHl3ULeT",
        "outputId": "47968f34-c723-4c1d-ec3e-3625113bd301"
      },
      "execution_count": null,
      "outputs": [
        {
          "output_type": "stream",
          "name": "stdout",
          "text": [
            "Enter the first string: aditi\n",
            "Enter the second string: aditi\n",
            "The two strings are rotations of each other.\n"
          ]
        }
      ]
    },
    {
      "cell_type": "markdown",
      "source": [
        "Q4) Write a program to print the first non-repeated character from a string?"
      ],
      "metadata": {
        "id": "yuyND4UbUzGp"
      }
    },
    {
      "cell_type": "code",
      "source": [
        "def find_first_non_repeated_char(string):\n",
        "    char_count = {}\n",
        "\n",
        "    for char in string:\n",
        "        char_count[char] = char_count.get(char, 0) + 1\n",
        "\n",
        "    for char in string:\n",
        "        if char_count[char] == 1:\n",
        "            return char\n",
        "\n",
        "    return None\n",
        "\n",
        "# Ask for input from the user\n",
        "input_string = input(\"Enter a string: \")\n",
        "result = find_first_non_repeated_char(input_string)\n",
        "print(result)"
      ],
      "metadata": {
        "colab": {
          "base_uri": "https://localhost:8080/"
        },
        "id": "RP6EWoHiUzWF",
        "outputId": "97cb0fb6-c201-4c8a-a412-a4078234b93d"
      },
      "execution_count": null,
      "outputs": [
        {
          "output_type": "stream",
          "name": "stdout",
          "text": [
            "Enter a string: aakash\n",
            "k\n"
          ]
        }
      ]
    },
    {
      "cell_type": "markdown",
      "source": [
        "Q5)Read about the Tower of Hanoi algorithm. Write a program to implement it?"
      ],
      "metadata": {
        "id": "UQiztVezUzlD"
      }
    },
    {
      "cell_type": "code",
      "source": [
        "def tower_of_hanoi(n, source, destination, auxiliary):\n",
        "    if n == 1:\n",
        "        print(f\"Move disk 1 from {source} to {destination}\")\n",
        "        return\n",
        "\n",
        "    tower_of_hanoi(n - 1, source, auxiliary, destination)\n",
        "\n",
        "    print(f\"Move disk {n} from {source} to {destination}\")\n",
        "\n",
        "    tower_of_hanoi(n - 1, auxiliary, destination, source)\n",
        "\n",
        "# Example usage\n",
        "num_disks = int(input(\"Enter the number of disks: \"))\n",
        "\n",
        "tower_of_hanoi(num_disks, 'A', 'C', 'B')"
      ],
      "metadata": {
        "colab": {
          "base_uri": "https://localhost:8080/"
        },
        "id": "ZTIEFHI_Uz1S",
        "outputId": "41a5d12e-2e4b-4508-fe8c-3e51d6a79a09"
      },
      "execution_count": null,
      "outputs": [
        {
          "output_type": "stream",
          "name": "stdout",
          "text": [
            "Enter the number of disks: 2\n",
            "Move disk 1 from A to B\n",
            "Move disk 2 from A to C\n",
            "Move disk 1 from B to C\n"
          ]
        }
      ]
    },
    {
      "cell_type": "markdown",
      "source": [
        "Q6)Read about infix, prefix, and postfix expressions. Write a program to convert postfix to prefix expression?"
      ],
      "metadata": {
        "id": "IN0SytzhU0En"
      }
    },
    {
      "cell_type": "code",
      "source": [
        "def postfix_to_prefix(expression):\n",
        "    stack = []\n",
        "\n",
        "    for token in expression:\n",
        "        if token.isalnum():\n",
        "            stack.append(token)\n",
        "        else:\n",
        "            num2 = stack.pop()\n",
        "            num1 = stack.pop()\n",
        "            stack.append(token + num1 + num2)\n",
        "\n",
        "    return stack.pop()\n",
        "\n",
        "# Example usage\n",
        "postfix_expression = input(\"Enter a postfix expression: \")\n",
        "prefix_expression = postfix_to_prefix(postfix_expression)\n",
        "\n",
        "print(\"Prefix expression:\", prefix_expression)"
      ],
      "metadata": {
        "colab": {
          "base_uri": "https://localhost:8080/"
        },
        "id": "Itt4lGqZU0fD",
        "outputId": "a68cc3e9-1abc-4b94-b9b9-a55c57e9a101"
      },
      "execution_count": null,
      "outputs": [
        {
          "output_type": "stream",
          "name": "stdout",
          "text": [
            "Enter a postfix expression: 123-\n",
            "Prefix expression: -23\n"
          ]
        }
      ]
    },
    {
      "cell_type": "markdown",
      "source": [
        "Q7) Write a program to convert prefix expression to infix expression?"
      ],
      "metadata": {
        "id": "mo6N-Pf7bU8-"
      }
    },
    {
      "cell_type": "code",
      "source": [
        "def is_operator(char):\n",
        "    operators = ['+', '-', '*', '/']\n",
        "    return char in operators\n",
        "\n",
        "def prefix_to_infix(expression):\n",
        "    stack = []\n",
        "\n",
        "    for char in reversed(expression):\n",
        "        if char.isalnum():\n",
        "            stack.append(char)\n",
        "        elif is_operator(char):\n",
        "            num1 = stack.pop()\n",
        "            num2 = stack.pop()\n",
        "            stack.append(f\"({num1}{char}{num2})\")\n",
        "\n",
        "    return stack.pop()\n",
        "\n",
        "# Example usage\n",
        "prefix_exp = input(\"Enter a prefix expression: \")\n",
        "infix_exp = prefix_to_infix(prefix_exp)\n",
        "print(\"Infix expression:\", infix_exp)"
      ],
      "metadata": {
        "colab": {
          "base_uri": "https://localhost:8080/"
        },
        "id": "e2z2fT04bVOt",
        "outputId": "7342a0b8-1af3-4d44-ac38-bb7c9530506c"
      },
      "execution_count": null,
      "outputs": [
        {
          "output_type": "stream",
          "name": "stdout",
          "text": [
            "Enter a prefix expression: +98\n",
            "Infix expression: (9+8)\n"
          ]
        }
      ]
    },
    {
      "cell_type": "markdown",
      "source": [
        "Q8) Write a program to check if all the brackets are closed in a given code snippet?"
      ],
      "metadata": {
        "id": "IoWbuQfHbVcw"
      }
    },
    {
      "cell_type": "code",
      "source": [
        "def check_brackets(code):\n",
        "    stack = []\n",
        "\n",
        "    for char in code:\n",
        "        if char in \"([{\":\n",
        "            stack.append(char)\n",
        "        elif char in \")]}\":\n",
        "            if len(stack) == 0:\n",
        "                return False\n",
        "            top = stack.pop()\n",
        "            if not is_matching(top, char):\n",
        "                return False\n",
        "\n",
        "    return len(stack) == 0\n",
        "\n",
        "def is_matching(opening, closing):\n",
        "    return (opening == '(' and closing == ')') or \\\n",
        "           (opening == '[' and closing == ']') or \\\n",
        "           (opening == '{' and closing == '}')\n",
        "\n",
        "# Example usage\n",
        "code_snippet = input(\"Enter a code snippet: \")\n",
        "if check_brackets(code_snippet):\n",
        "    print(\"All brackets are properly closed.\")\n",
        "else:\n",
        "    print(\"Brackets are not properly closed.\")"
      ],
      "metadata": {
        "colab": {
          "base_uri": "https://localhost:8080/"
        },
        "id": "h4SusvhGbVvu",
        "outputId": "5e6cc88a-3dbe-4314-e621-4966a3013e1c"
      },
      "execution_count": null,
      "outputs": [
        {
          "output_type": "stream",
          "name": "stdout",
          "text": [
            "Enter a code snippet: [{()}]\n",
            "All brackets are properly closed.\n"
          ]
        }
      ]
    },
    {
      "cell_type": "markdown",
      "source": [
        "Q9)  Write a program to reverse a stack?"
      ],
      "metadata": {
        "id": "0ieWTgSpbWBc"
      }
    },
    {
      "cell_type": "code",
      "source": [
        "class Stack:\n",
        "    def __init__(self):\n",
        "        self.items = []\n",
        "\n",
        "    def is_empty(self):\n",
        "        return len(self.items) == 0\n",
        "\n",
        "    def push(self, item):\n",
        "        self.items.append(item)\n",
        "\n",
        "    def pop(self):\n",
        "        if not self.is_empty():\n",
        "            return self.items.pop()\n",
        "\n",
        "    def size(self):\n",
        "        return len(self.items)\n",
        "\n",
        "def reverse_stack(stack):\n",
        "    if stack.is_empty():\n",
        "        return\n",
        "\n",
        "    temp = stack.pop()\n",
        "    reverse_stack(stack)\n",
        "    insert_at_bottom(stack, temp)\n",
        "\n",
        "def insert_at_bottom(stack, item):\n",
        "    if stack.is_empty():\n",
        "        stack.push(item)\n",
        "        return\n",
        "\n",
        "    temp = stack.pop()\n",
        "    insert_at_bottom(stack, item)\n",
        "    stack.push(temp)\n",
        "\n",
        "\n",
        "# Example usage\n",
        "stack = Stack()\n",
        "stack.push(1)\n",
        "stack.push(2)\n",
        "stack.push(3)\n",
        "stack.push(4)\n",
        "stack.pop()\n",
        "\n",
        "print(\"Original Stack:\", stack.items)\n",
        "\n",
        "reverse_stack(stack)\n",
        "\n",
        "print(\"Reversed Stack:\", stack.items)"
      ],
      "metadata": {
        "colab": {
          "base_uri": "https://localhost:8080/"
        },
        "id": "ILTOFUKZbWPj",
        "outputId": "faf045d3-4efe-4ef7-b683-cde8c2c55729"
      },
      "execution_count": null,
      "outputs": [
        {
          "output_type": "stream",
          "name": "stdout",
          "text": [
            "Original Stack: [1, 2, 3]\n",
            "Reversed Stack: [3, 2, 1]\n"
          ]
        }
      ]
    },
    {
      "cell_type": "markdown",
      "source": [
        "Q10) Write a program to find the smallest number using a stack?\n"
      ],
      "metadata": {
        "id": "s88PGHgAcMuO"
      }
    },
    {
      "cell_type": "code",
      "source": [
        "class Stack:\n",
        "    def __init__(self):\n",
        "        self.stack = []\n",
        "        self.min_stack = []\n",
        "\n",
        "    def push(self, value):\n",
        "        self.stack.append(value)\n",
        "        if not self.min_stack or value <= self.min_stack[-1]:\n",
        "            self.min_stack.append(value)\n",
        "\n",
        "    def pop(self):\n",
        "        if self.stack:\n",
        "            value = self.stack.pop()\n",
        "            if value == self.min_stack[-1]:\n",
        "                self.min_stack.pop()\n",
        "            return value\n",
        "        else:\n",
        "            return None\n",
        "\n",
        "    def get_min(self):\n",
        "        if self.min_stack:\n",
        "            return self.min_stack[-1]\n",
        "        else:\n",
        "            return None\n",
        "\n",
        "\n",
        "def find_smallest_number():\n",
        "    stack = Stack()\n",
        "\n",
        "    n = int(input(\"Enter the size of elements: \"))\n",
        "\n",
        "    for i in range(n):\n",
        "        num = int(input(f\"Enter element {i + 1}: \"))\n",
        "        stack.push(num)\n",
        "\n",
        "    smallest = stack.get_min()\n",
        "    print(f\"The smallest number is: {smallest}\")\n",
        "\n",
        "\n",
        "find_smallest_number()\n",
        "10\n"
      ],
      "metadata": {
        "colab": {
          "base_uri": "https://localhost:8080/"
        },
        "id": "o_ZR9rQScM_3",
        "outputId": "5286c0e9-c157-43b6-fc65-25f8f374ef00"
      },
      "execution_count": null,
      "outputs": [
        {
          "output_type": "stream",
          "name": "stdout",
          "text": [
            "Enter the size of elements: 4\n",
            "Enter element 1: 5\n",
            "Enter element 2: 7\n",
            "Enter element 3: 9\n",
            "Enter element 4: 98\n",
            "The smallest number is: 5\n"
          ]
        }
      ]
    }
  ]
}